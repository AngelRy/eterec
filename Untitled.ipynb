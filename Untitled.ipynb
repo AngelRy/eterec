{
 "cells": [
  {
   "cell_type": "markdown",
   "id": "6f6304be-0274-4d9e-bc4f-343f970913ba",
   "metadata": {},
   "source": [
    "# Recommendation system EDA"
   ]
  },
  {
   "cell_type": "code",
   "execution_count": null,
   "id": "0185e3ac-6ab7-47fc-b687-2d7236053fdd",
   "metadata": {},
   "outputs": [],
   "source": []
  }
 ],
 "metadata": {
  "kernelspec": {
   "display_name": "Python 3 (ipykernel)",
   "language": "python",
   "name": "python3"
  },
  "language_info": {
   "codemirror_mode": {
    "name": "ipython",
    "version": 3
   },
   "file_extension": ".py",
   "mimetype": "text/x-python",
   "name": "python",
   "nbconvert_exporter": "python",
   "pygments_lexer": "ipython3",
   "version": "3.9.16"
  }
 },
 "nbformat": 4,
 "nbformat_minor": 5
}
